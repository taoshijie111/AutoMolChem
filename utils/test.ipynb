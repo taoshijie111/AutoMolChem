{
 "cells": [
  {
   "cell_type": "code",
   "execution_count": 7,
   "id": "e548c169",
   "metadata": {},
   "outputs": [],
   "source": [
    "import os\n",
    "import re\n",
    "import csv\n",
    "import glob\n",
    "import numpy as np"
   ]
  },
  {
   "cell_type": "code",
   "execution_count": 13,
   "id": "be4a2882",
   "metadata": {},
   "outputs": [],
   "source": [
    "with open('test/batch_0000/molecule_1/triplet_tddft.output', 'r') as f:\n",
    "    content = f.read()"
   ]
  },
  {
   "cell_type": "code",
   "execution_count": 14,
   "id": "97b3d024",
   "metadata": {},
   "outputs": [],
   "source": [
    "def extract_excited_states(output_content):\n",
    "    \"\"\"Extract S1 and T1 excited state energies.\"\"\"\n",
    "    # Extract S1 energy (STATE 1 in singlets section)\n",
    "    s1_pattern = r'STATE\\s+1:\\s+E=\\s+[\\d\\.-]+\\s+au\\s+([\\d\\.]+)\\s+eV.*?<S\\*\\*2>\\s+=\\s+[\\d\\.]+\\s+Mult\\s+1'\n",
    "    s1_match = re.search(s1_pattern, output_content)\n",
    "    s1_energy = float(s1_match.group(1)) if s1_match else None\n",
    "    \n",
    "    # Extract T1 energy (first triplet state with Mult 3)\n",
    "    t1_pattern = r'STATE\\s+\\d+:\\s+E=\\s+[\\d\\.-]+\\s+au\\s+([\\d\\.]+)\\s+eV.*?<S\\*\\*2>\\s+=\\s+[\\d\\.]+\\s+Mult\\s+3'\n",
    "    t1_match = re.search(t1_pattern, output_content)\n",
    "    t1_energy = float(t1_match.group(1)) if t1_match else None\n",
    "    \n",
    "    return s1_energy, t1_energy"
   ]
  },
  {
   "cell_type": "code",
   "execution_count": 15,
   "id": "214ced6b",
   "metadata": {},
   "outputs": [],
   "source": [
    "def extract_soc_matrix_elements(output_content):\n",
    "    \"\"\"Extract SOC matrix elements for all T-S couplings.\"\"\"\n",
    "    # Look for SOC matrix elements section\n",
    "    soc_pattern = r'CALCULATED SOCME BETWEEN TRIPLETS AND SINGLETS(.*?)SOC stabilization'\n",
    "    soc_match = re.search(soc_pattern, output_content, re.DOTALL)\n",
    "    \n",
    "    soc_elements = {}\n",
    "    if soc_match:\n",
    "        lines = soc_match.group(1).split('\\n')\n",
    "        \n",
    "        for line in lines:\n",
    "            # Pattern to match SOC matrix element lines\n",
    "            # Format: T S (Re_Z, Im_Z) (Re_X, Im_X) (Re_Y, Im_Y)\n",
    "            pattern = r'^\\s*(\\d+)\\s+(\\d+)\\s+\\(\\s*([-\\d\\.]+)\\s*,\\s*([-\\d\\.]+)\\s*\\)\\s+\\(\\s*([-\\d\\.]+)\\s*,\\s*([-\\d\\.]+)\\s*\\)\\s+\\(\\s*([-\\d\\.]+)\\s*,\\s*([-\\d\\.]+)\\s*\\)'\n",
    "            match = re.match(pattern, line.strip())\n",
    "            \n",
    "            if match:\n",
    "                t_state = int(match.group(1))\n",
    "                s_state = int(match.group(2))\n",
    "                \n",
    "                # Extract real and imaginary parts for Z, X, Y components\n",
    "                z_re, z_im = float(match.group(3)), float(match.group(4))\n",
    "                x_re, x_im = float(match.group(5)), float(match.group(6))\n",
    "                y_re, y_im = float(match.group(7)), float(match.group(8))\n",
    "                \n",
    "                # Calculate magnitude of the SOC matrix element\n",
    "                # Total magnitude = sqrt(|Z|^2 + |X|^2 + |Y|^2)\n",
    "                z_mag = np.sqrt(z_re**2 + z_im**2)\n",
    "                x_mag = np.sqrt(x_re**2 + x_im**2)\n",
    "                y_mag = np.sqrt(y_re**2 + y_im**2)\n",
    "                total_mag = np.sqrt(z_mag**2 + x_mag**2 + y_mag**2)\n",
    "                \n",
    "                # Store with key format 'S*-T*'\n",
    "                key = f'S{s_state}-T{t_state}'\n",
    "                soc_elements[key] = total_mag\n",
    "    \n",
    "    return soc_elements"
   ]
  },
  {
   "cell_type": "code",
   "execution_count": 16,
   "id": "c7f56575",
   "metadata": {},
   "outputs": [],
   "source": [
    "def extract_absorption_spectrum(output_content):\n",
    "    \"\"\"Extract absorption spectrum data (regular and SOC-corrected).\"\"\"\n",
    "    # Regular absorption spectrum\n",
    "    abs_pattern = r'ABSORPTION SPECTRUM VIA TRANSITION ELECTRIC DIPOLE MOMENTS\\s+(.*?)(?=\\n\\s*\\n|\\nSOC|$)'\n",
    "    abs_match = re.search(abs_pattern, output_content, re.DOTALL)\n",
    "    \n",
    "    e_abs, f_abs = [], []\n",
    "    if abs_match:\n",
    "        lines = abs_match.group(1).split('\\n')\n",
    "        for line in lines:\n",
    "            # Parse transition lines: look for energy and oscillator strength\n",
    "            pattern = r'^\\s*\\d+-\\d+[A-Z]\\s+->\\s+\\d+-\\d+[A-Z]\\s+([\\d\\.]+)\\s+[\\d\\.]+\\s+[\\d\\.]+\\s+([\\d\\.]+)'\n",
    "            match = re.match(pattern, line.strip())\n",
    "            if match:\n",
    "                energy_ev = float(match.group(1))\n",
    "                osc_strength = float(match.group(2))\n",
    "                e_abs.append(energy_ev)\n",
    "                f_abs.append(osc_strength)\n",
    "    \n",
    "    # SOC-corrected absorption spectrum\n",
    "    soc_abs_pattern = r'SOC CORRECTED ABSORPTION SPECTRUM VIA TRANSITION ELECTRIC DIPOLE MOMENTS\\s+(.*?)(?=\\n\\s*\\n|SOC CORRECTED ABSORPTION SPECTRUM VIA TRANSITION VELOCITY|$)'\n",
    "    soc_abs_match = re.search(soc_abs_pattern, output_content, re.DOTALL)\n",
    "    \n",
    "    e_abs_soc, f_abs_soc = [], []\n",
    "    if soc_abs_match:\n",
    "        lines = soc_abs_match.group(1).split('\\n')\n",
    "        for line in lines:\n",
    "            # Parse SOC transition lines\n",
    "            pattern = r'^\\s*\\d+-[\\d\\.]+[A-Z]\\s+->\\s+\\d+-[\\d\\.]+[A-Z]\\s+([\\d\\.]+)\\s+[\\d\\.]+\\s+[\\d\\.]+\\s+([\\d\\.]+)'\n",
    "            match = re.match(pattern, line.strip())\n",
    "            if match:\n",
    "                energy_ev = float(match.group(1))\n",
    "                osc_strength = float(match.group(2))\n",
    "                e_abs_soc.append(energy_ev)\n",
    "                f_abs_soc.append(osc_strength)\n",
    "    \n",
    "    return e_abs, f_abs, e_abs_soc, f_abs_soc"
   ]
  },
  {
   "cell_type": "code",
   "execution_count": 17,
   "id": "2cb83972",
   "metadata": {},
   "outputs": [
    {
     "name": "stdout",
     "output_type": "stream",
     "text": [
      "3.718 2.369\n"
     ]
    }
   ],
   "source": [
    "s1, t1 = extract_excited_states(content)\n",
    "print(s1, t1)"
   ]
  },
  {
   "cell_type": "code",
   "execution_count": 16,
   "id": "b295ab2c",
   "metadata": {},
   "outputs": [
    {
     "data": {
      "text/plain": [
       "{'S0-T1': 15.864504404487395,\n",
       " 'S1-T1': 6.451604451607367,\n",
       " 'S2-T1': 1.0609901036296239,\n",
       " 'S3-T1': 8.898252637456412,\n",
       " 'S4-T1': 2.92624332549431,\n",
       " 'S5-T1': 1.2758526560696575,\n",
       " 'S0-T2': 19.955959009779512,\n",
       " 'S1-T2': 9.917731595480893,\n",
       " 'S2-T2': 1.1497825881443848,\n",
       " 'S3-T2': 4.270339564952651,\n",
       " 'S4-T2': 4.281471709587721,\n",
       " 'S5-T2': 0.5051732376126036,\n",
       " 'S0-T3': 1.2068139873236472,\n",
       " 'S1-T3': 0.8830062287436029,\n",
       " 'S2-T3': 2.572022550445466,\n",
       " 'S3-T3': 0.452658811910251,\n",
       " 'S4-T3': 8.188583516091168,\n",
       " 'S5-T3': 0.8012490249604053,\n",
       " 'S0-T4': 5.910406077419724,\n",
       " 'S1-T4': 3.7927035212365334,\n",
       " 'S2-T4': 0.1606237840420901,\n",
       " 'S3-T4': 3.104239037187697,\n",
       " 'S4-T4': 0.8218880702382777,\n",
       " 'S5-T4': 0.1711724276862369,\n",
       " 'S0-T5': 1.4086163423728975,\n",
       " 'S1-T5': 1.4996332885075605,\n",
       " 'S2-T5': 2.4282915805149923,\n",
       " 'S3-T5': 0.08774964387392122,\n",
       " 'S4-T5': 3.0918926242675377,\n",
       " 'S5-T5': 0.30331501776206204}"
      ]
     },
     "execution_count": 16,
     "metadata": {},
     "output_type": "execute_result"
    }
   ],
   "source": [
    "soc = extract_soc_matrix_elements(content)\n",
    "soc"
   ]
  },
  {
   "cell_type": "code",
   "execution_count": 30,
   "id": "84a3aea2",
   "metadata": {},
   "outputs": [],
   "source": [
    "e_abs, f_abs, e_abs_soc, f_abs_soc = extract_absorption_spectrum(content)"
   ]
  },
  {
   "cell_type": "code",
   "execution_count": 35,
   "id": "45c2e235",
   "metadata": {},
   "outputs": [
    {
     "data": {
      "text/plain": [
       "[1.9e-08,\n",
       " 1.3e-08,\n",
       " 5.8838e-05,\n",
       " 0.003706511,\n",
       " 1e-09,\n",
       " 0.0,\n",
       " 6.1328e-05,\n",
       " 9.19e-07,\n",
       " 1.62e-07,\n",
       " 3.6716e-05,\n",
       " 0.000899632,\n",
       " 2.1046e-05,\n",
       " 2e-08,\n",
       " 2.95e-07,\n",
       " 0.000997464,\n",
       " 9.6e-08,\n",
       " 2e-09,\n",
       " 7.3578e-05,\n",
       " 0.004203657,\n",
       " 0.08066273]"
      ]
     },
     "execution_count": 35,
     "metadata": {},
     "output_type": "execute_result"
    }
   ],
   "source": [
    "f_abs_soc"
   ]
  },
  {
   "cell_type": "code",
   "execution_count": null,
   "id": "a57bb566",
   "metadata": {},
   "outputs": [],
   "source": []
  }
 ],
 "metadata": {
  "kernelspec": {
   "display_name": "md",
   "language": "python",
   "name": "python3"
  },
  "language_info": {
   "codemirror_mode": {
    "name": "ipython",
    "version": 3
   },
   "file_extension": ".py",
   "mimetype": "text/x-python",
   "name": "python",
   "nbconvert_exporter": "python",
   "pygments_lexer": "ipython3",
   "version": "3.11.0"
  }
 },
 "nbformat": 4,
 "nbformat_minor": 5
}
